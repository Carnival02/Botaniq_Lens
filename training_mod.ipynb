{
 "cells": [
  {
   "cell_type": "code",
   "execution_count": 72,
   "id": "5177d68e",
   "metadata": {},
   "outputs": [],
   "source": [
    "import tensorflow as tf\n",
    "import matplotlib.pyplot as plt\n",
    "import pandas as pd\n",
    "import seaborn as sns"
   ]
  },
  {
   "cell_type": "code",
   "execution_count": 73,
   "id": "1ba524c5",
   "metadata": {},
   "outputs": [
    {
     "name": "stdout",
     "output_type": "stream",
     "text": [
      "tf.Tensor(197.89445, shape=(), dtype=float32)\n"
     ]
    }
   ],
   "source": [
    "print(tf.reduce_sum(tf.random.normal([1000, 1000])))"
   ]
  },
  {
   "cell_type": "code",
   "execution_count": 74,
   "id": "ca03041e",
   "metadata": {},
   "outputs": [],
   "source": [
    "import numpy as np\n",
    "import tensorflow as tf\n",
    "import matplotlib.pyplot as plt"
   ]
  },
  {
   "cell_type": "code",
   "execution_count": 149,
   "id": "797857e8",
   "metadata": {},
   "outputs": [
    {
     "name": "stdout",
     "output_type": "stream",
     "text": [
      "Found 3115 files belonging to 36 classes.\n"
     ]
    }
   ],
   "source": [
    "training_set=tf.keras.utils.image_dataset_from_directory(\n",
    "    'C:\\\\Users\\\\harsh\\\\OneDrive\\\\Desktop\\\\fruits_Recognition_system\\\\Plant_deasieas\\\\train'\n",
    ",\n",
    "    labels='inferred',\n",
    "    label_mode='categorical',\n",
    "    class_names=None,\n",
    "    color_mode='rgb',\n",
    "    batch_size=32,\n",
    "    image_size=(64,64),\n",
    "    shuffle=True,\n",
    "    seed=None,\n",
    "    validation_split=None,\n",
    "    \n",
    "    subset=None,\n",
    "    interpolation='bilinear',\n",
    "    follow_links=False,\n",
    "    crop_to_aspect_ratio=False\n",
    "\n",
    ")"
   ]
  },
  {
   "cell_type": "code",
   "execution_count": 150,
   "id": "e4f4c2be",
   "metadata": {},
   "outputs": [
    {
     "name": "stdout",
     "output_type": "stream",
     "text": [
      "Found 351 files belonging to 36 classes.\n"
     ]
    }
   ],
   "source": [
    "validation_set=tf.keras.utils.image_dataset_from_directory(\n",
    "    'C:\\\\Users\\\\harsh\\\\OneDrive\\\\Desktop\\\\fruits_Recognition_system\\\\Plant_deasieas\\\\validation',\n",
    "    labels=\"inferred\",\n",
    "    label_mode=\"categorical\",\n",
    "    class_names=None,\n",
    "    color_mode=\"rgb\",\n",
    "    batch_size=32,\n",
    "    image_size=(64, 64),\n",
    "    shuffle=True,\n",
    "    seed=None,\n",
    "    validation_split=None,\n",
    "    subset=None,\n",
    "    interpolation=\"bilinear\",\n",
    "    follow_links=False,\n",
    "    crop_to_aspect_ratio=False,\n",
    "    pad_to_aspect_ratio=False,\n",
    "    data_format=None,\n",
    "    verbose=True\n",
    ")"
   ]
  },
  {
   "cell_type": "code",
   "execution_count": 151,
   "id": "c1f36108",
   "metadata": {},
   "outputs": [],
   "source": [
    "cnn=tf.keras.models.Sequential()"
   ]
  },
  {
   "cell_type": "markdown",
   "id": "a602c805",
   "metadata": {},
   "source": [
    "Builiding Covolution layer"
   ]
  },
  {
   "cell_type": "code",
   "execution_count": 152,
   "id": "4368f5e8",
   "metadata": {},
   "outputs": [],
   "source": [
    "cnn.add(tf.keras.layers.Conv2D(filters=32,kernel_size=3,activation='relu',input_shape=[64,64,3]))\n",
    "cnn.add(tf.keras.layers.MaxPool2D(pool_size=2,strides=2))"
   ]
  },
  {
   "cell_type": "code",
   "execution_count": 153,
   "id": "305bc3d5",
   "metadata": {},
   "outputs": [],
   "source": [
    "cnn.add(tf.keras.layers.Conv2D(filters=32,kernel_size=3,activation='relu'))\n",
    "cnn.add(tf.keras.layers.MaxPool2D(pool_size=2,strides=2))"
   ]
  },
  {
   "cell_type": "code",
   "execution_count": 154,
   "id": "57058e75",
   "metadata": {},
   "outputs": [],
   "source": [
    "cnn.add(tf.keras.layers.Dropout(0.5)) #to avoid overfitting"
   ]
  },
  {
   "cell_type": "code",
   "execution_count": 155,
   "id": "c5184232",
   "metadata": {},
   "outputs": [],
   "source": [
    "cnn.add(tf.keras.layers.Flatten())"
   ]
  },
  {
   "cell_type": "code",
   "execution_count": 156,
   "id": "376ab7cb",
   "metadata": {},
   "outputs": [],
   "source": [
    "cnn.add(tf.keras.layers.Dense(units=128,activation='relu'))"
   ]
  },
  {
   "cell_type": "code",
   "execution_count": 157,
   "id": "2036f252",
   "metadata": {},
   "outputs": [],
   "source": [
    "cnn.add(tf.keras.layers.Dense(units=36,activation='softmax')) #Output Layer "
   ]
  },
  {
   "cell_type": "markdown",
   "id": "82abb7d3",
   "metadata": {},
   "source": [
    "Compiling and Training Phase of Model"
   ]
  },
  {
   "cell_type": "code",
   "execution_count": 158,
   "id": "007f528f",
   "metadata": {},
   "outputs": [],
   "source": [
    "cnn.compile(optimizer='rmsprop',loss='categorical_crossentropy',metrics=['accuracy'])"
   ]
  },
  {
   "cell_type": "code",
   "execution_count": 159,
   "id": "d6313d60",
   "metadata": {},
   "outputs": [
    {
     "name": "stdout",
     "output_type": "stream",
     "text": [
      "Epoch 1/30\n",
      "\u001b[1m98/98\u001b[0m \u001b[32m━━━━━━━━━━━━━━━━━━━━\u001b[0m\u001b[37m\u001b[0m \u001b[1m16s\u001b[0m 141ms/step - accuracy: 0.0409 - loss: 32.8843 - val_accuracy: 0.0769 - val_loss: 3.5104\n",
      "Epoch 2/30\n",
      "\u001b[1m98/98\u001b[0m \u001b[32m━━━━━━━━━━━━━━━━━━━━\u001b[0m\u001b[37m\u001b[0m \u001b[1m10s\u001b[0m 100ms/step - accuracy: 0.0553 - loss: 3.5496 - val_accuracy: 0.1168 - val_loss: 3.4276\n",
      "Epoch 3/30\n",
      "\u001b[1m98/98\u001b[0m \u001b[32m━━━━━━━━━━━━━━━━━━━━\u001b[0m\u001b[37m\u001b[0m \u001b[1m10s\u001b[0m 94ms/step - accuracy: 0.0929 - loss: 3.5864 - val_accuracy: 0.2194 - val_loss: 2.9956\n",
      "Epoch 4/30\n",
      "\u001b[1m98/98\u001b[0m \u001b[32m━━━━━━━━━━━━━━━━━━━━\u001b[0m\u001b[37m\u001b[0m \u001b[1m10s\u001b[0m 96ms/step - accuracy: 0.1338 - loss: 3.2814 - val_accuracy: 0.3020 - val_loss: 2.7679\n",
      "Epoch 5/30\n",
      "\u001b[1m98/98\u001b[0m \u001b[32m━━━━━━━━━━━━━━━━━━━━\u001b[0m\u001b[37m\u001b[0m \u001b[1m10s\u001b[0m 94ms/step - accuracy: 0.1712 - loss: 3.2689 - val_accuracy: 0.3618 - val_loss: 2.6139\n",
      "Epoch 6/30\n",
      "\u001b[1m98/98\u001b[0m \u001b[32m━━━━━━━━━━━━━━━━━━━━\u001b[0m\u001b[37m\u001b[0m \u001b[1m10s\u001b[0m 99ms/step - accuracy: 0.2348 - loss: 2.9578 - val_accuracy: 0.3818 - val_loss: 2.4275\n",
      "Epoch 7/30\n",
      "\u001b[1m98/98\u001b[0m \u001b[32m━━━━━━━━━━━━━━━━━━━━\u001b[0m\u001b[37m\u001b[0m \u001b[1m10s\u001b[0m 98ms/step - accuracy: 0.2758 - loss: 2.6928 - val_accuracy: 0.5385 - val_loss: 2.0121\n",
      "Epoch 8/30\n",
      "\u001b[1m98/98\u001b[0m \u001b[32m━━━━━━━━━━━━━━━━━━━━\u001b[0m\u001b[37m\u001b[0m \u001b[1m10s\u001b[0m 105ms/step - accuracy: 0.3314 - loss: 2.4917 - val_accuracy: 0.5869 - val_loss: 1.8563\n",
      "Epoch 9/30\n",
      "\u001b[1m98/98\u001b[0m \u001b[32m━━━━━━━━━━━━━━━━━━━━\u001b[0m\u001b[37m\u001b[0m \u001b[1m10s\u001b[0m 100ms/step - accuracy: 0.3945 - loss: 2.2387 - val_accuracy: 0.4929 - val_loss: 2.8943\n",
      "Epoch 10/30\n",
      "\u001b[1m98/98\u001b[0m \u001b[32m━━━━━━━━━━━━━━━━━━━━\u001b[0m\u001b[37m\u001b[0m \u001b[1m10s\u001b[0m 102ms/step - accuracy: 0.4298 - loss: 2.1631 - val_accuracy: 0.6553 - val_loss: 1.5695\n",
      "Epoch 11/30\n",
      "\u001b[1m98/98\u001b[0m \u001b[32m━━━━━━━━━━━━━━━━━━━━\u001b[0m\u001b[37m\u001b[0m \u001b[1m10s\u001b[0m 101ms/step - accuracy: 0.4821 - loss: 1.9879 - val_accuracy: 0.6752 - val_loss: 1.5596\n",
      "Epoch 12/30\n",
      "\u001b[1m98/98\u001b[0m \u001b[32m━━━━━━━━━━━━━━━━━━━━\u001b[0m\u001b[37m\u001b[0m \u001b[1m10s\u001b[0m 101ms/step - accuracy: 0.5328 - loss: 1.8361 - val_accuracy: 0.6068 - val_loss: 1.9260\n",
      "Epoch 13/30\n",
      "\u001b[1m98/98\u001b[0m \u001b[32m━━━━━━━━━━━━━━━━━━━━\u001b[0m\u001b[37m\u001b[0m \u001b[1m10s\u001b[0m 99ms/step - accuracy: 0.5564 - loss: 1.7451 - val_accuracy: 0.7236 - val_loss: 1.4181\n",
      "Epoch 14/30\n",
      "\u001b[1m98/98\u001b[0m \u001b[32m━━━━━━━━━━━━━━━━━━━━\u001b[0m\u001b[37m\u001b[0m \u001b[1m10s\u001b[0m 97ms/step - accuracy: 0.5908 - loss: 1.6506 - val_accuracy: 0.7664 - val_loss: 1.2777\n",
      "Epoch 15/30\n",
      "\u001b[1m98/98\u001b[0m \u001b[32m━━━━━━━━━━━━━━━━━━━━\u001b[0m\u001b[37m\u001b[0m \u001b[1m10s\u001b[0m 99ms/step - accuracy: 0.6081 - loss: 1.6045 - val_accuracy: 0.7835 - val_loss: 1.4654\n",
      "Epoch 16/30\n",
      "\u001b[1m98/98\u001b[0m \u001b[32m━━━━━━━━━━━━━━━━━━━━\u001b[0m\u001b[37m\u001b[0m \u001b[1m10s\u001b[0m 97ms/step - accuracy: 0.6399 - loss: 1.4428 - val_accuracy: 0.7578 - val_loss: 1.4752\n",
      "Epoch 17/30\n",
      "\u001b[1m98/98\u001b[0m \u001b[32m━━━━━━━━━━━━━━━━━━━━\u001b[0m\u001b[37m\u001b[0m \u001b[1m10s\u001b[0m 102ms/step - accuracy: 0.6676 - loss: 1.2984 - val_accuracy: 0.8063 - val_loss: 1.3147\n",
      "Epoch 18/30\n",
      "\u001b[1m98/98\u001b[0m \u001b[32m━━━━━━━━━━━━━━━━━━━━\u001b[0m\u001b[37m\u001b[0m \u001b[1m10s\u001b[0m 104ms/step - accuracy: 0.6858 - loss: 1.3620 - val_accuracy: 0.8177 - val_loss: 1.3091\n",
      "Epoch 19/30\n",
      "\u001b[1m98/98\u001b[0m \u001b[32m━━━━━━━━━━━━━━━━━━━━\u001b[0m\u001b[37m\u001b[0m \u001b[1m10s\u001b[0m 102ms/step - accuracy: 0.6815 - loss: 1.3764 - val_accuracy: 0.8490 - val_loss: 1.0995\n",
      "Epoch 20/30\n",
      "\u001b[1m98/98\u001b[0m \u001b[32m━━━━━━━━━━━━━━━━━━━━\u001b[0m\u001b[37m\u001b[0m \u001b[1m10s\u001b[0m 99ms/step - accuracy: 0.7147 - loss: 1.2255 - val_accuracy: 0.8177 - val_loss: 1.0395\n",
      "Epoch 21/30\n",
      "\u001b[1m98/98\u001b[0m \u001b[32m━━━━━━━━━━━━━━━━━━━━\u001b[0m\u001b[37m\u001b[0m \u001b[1m10s\u001b[0m 104ms/step - accuracy: 0.7346 - loss: 1.1233 - val_accuracy: 0.7835 - val_loss: 1.8780\n",
      "Epoch 22/30\n",
      "\u001b[1m98/98\u001b[0m \u001b[32m━━━━━━━━━━━━━━━━━━━━\u001b[0m\u001b[37m\u001b[0m \u001b[1m10s\u001b[0m 100ms/step - accuracy: 0.7439 - loss: 1.3267 - val_accuracy: 0.8917 - val_loss: 1.0593\n",
      "Epoch 23/30\n",
      "\u001b[1m98/98\u001b[0m \u001b[32m━━━━━━━━━━━━━━━━━━━━\u001b[0m\u001b[37m\u001b[0m \u001b[1m10s\u001b[0m 101ms/step - accuracy: 0.7750 - loss: 0.9136 - val_accuracy: 0.8490 - val_loss: 1.2525\n",
      "Epoch 24/30\n",
      "\u001b[1m98/98\u001b[0m \u001b[32m━━━━━━━━━━━━━━━━━━━━\u001b[0m\u001b[37m\u001b[0m \u001b[1m10s\u001b[0m 99ms/step - accuracy: 0.7684 - loss: 1.0266 - val_accuracy: 0.8775 - val_loss: 1.0764\n",
      "Epoch 25/30\n",
      "\u001b[1m98/98\u001b[0m \u001b[32m━━━━━━━━━━━━━━━━━━━━\u001b[0m\u001b[37m\u001b[0m \u001b[1m10s\u001b[0m 97ms/step - accuracy: 0.7846 - loss: 1.0502 - val_accuracy: 0.8034 - val_loss: 1.7833\n",
      "Epoch 26/30\n",
      "\u001b[1m98/98\u001b[0m \u001b[32m━━━━━━━━━━━━━━━━━━━━\u001b[0m\u001b[37m\u001b[0m \u001b[1m10s\u001b[0m 100ms/step - accuracy: 0.7838 - loss: 0.9886 - val_accuracy: 0.8746 - val_loss: 1.3611\n",
      "Epoch 27/30\n",
      "\u001b[1m98/98\u001b[0m \u001b[32m━━━━━━━━━━━━━━━━━━━━\u001b[0m\u001b[37m\u001b[0m \u001b[1m10s\u001b[0m 100ms/step - accuracy: 0.8098 - loss: 0.9065 - val_accuracy: 0.8946 - val_loss: 1.1684\n",
      "Epoch 28/30\n",
      "\u001b[1m98/98\u001b[0m \u001b[32m━━━━━━━━━━━━━━━━━━━━\u001b[0m\u001b[37m\u001b[0m \u001b[1m10s\u001b[0m 100ms/step - accuracy: 0.8219 - loss: 0.8335 - val_accuracy: 0.8889 - val_loss: 1.2229\n",
      "Epoch 29/30\n",
      "\u001b[1m98/98\u001b[0m \u001b[32m━━━━━━━━━━━━━━━━━━━━\u001b[0m\u001b[37m\u001b[0m \u001b[1m10s\u001b[0m 99ms/step - accuracy: 0.8114 - loss: 0.8816 - val_accuracy: 0.8746 - val_loss: 2.0611\n",
      "Epoch 30/30\n",
      "\u001b[1m98/98\u001b[0m \u001b[32m━━━━━━━━━━━━━━━━━━━━\u001b[0m\u001b[37m\u001b[0m \u001b[1m10s\u001b[0m 103ms/step - accuracy: 0.7986 - loss: 0.9942 - val_accuracy: 0.8946 - val_loss: 1.1524\n"
     ]
    }
   ],
   "source": [
    "training_history=cnn.fit(x=training_set,validation_data=validation_set,epochs=30)"
   ]
  },
  {
   "cell_type": "markdown",
   "id": "e072a0b7",
   "metadata": {},
   "source": [
    "SAving the model\n"
   ]
  },
  {
   "cell_type": "code",
   "execution_count": 160,
   "id": "cf316391",
   "metadata": {},
   "outputs": [],
   "source": [
    "cnn.save('trained_model.keras')"
   ]
  },
  {
   "cell_type": "code",
   "execution_count": 161,
   "id": "b621d8de",
   "metadata": {},
   "outputs": [
    {
     "data": {
      "text/plain": [
       "{'accuracy': [0.04430176690220833,\n",
       "  0.05842696502804756,\n",
       "  0.10208667814731598,\n",
       "  0.15056179463863373,\n",
       "  0.18651685118675232,\n",
       "  0.24398073554039001,\n",
       "  0.2921348214149475,\n",
       "  0.35569822788238525,\n",
       "  0.4025682210922241,\n",
       "  0.44686996936798096,\n",
       "  0.48571428656578064,\n",
       "  0.5418940782546997,\n",
       "  0.5617977380752563,\n",
       "  0.5929374098777771,\n",
       "  0.6272873282432556,\n",
       "  0.643338680267334,\n",
       "  0.6703049540519714,\n",
       "  0.6902086734771729,\n",
       "  0.6937399506568909,\n",
       "  0.7171749472618103,\n",
       "  0.7351524829864502,\n",
       "  0.7508828043937683,\n",
       "  0.7573033571243286,\n",
       "  0.7595505714416504,\n",
       "  0.7826645374298096,\n",
       "  0.7874799370765686,\n",
       "  0.8003210425376892,\n",
       "  0.8028892278671265,\n",
       "  0.8086677193641663,\n",
       "  0.8118780255317688],\n",
       " 'loss': [10.781110763549805,\n",
       "  3.5229997634887695,\n",
       "  3.4510138034820557,\n",
       "  3.2343413829803467,\n",
       "  3.12041974067688,\n",
       "  2.891270160675049,\n",
       "  2.660168170928955,\n",
       "  2.455738067626953,\n",
       "  2.2700705528259277,\n",
       "  2.0761117935180664,\n",
       "  1.9467062950134277,\n",
       "  1.8127714395523071,\n",
       "  1.7560580968856812,\n",
       "  1.6724827289581299,\n",
       "  1.5160480737686157,\n",
       "  1.4152897596359253,\n",
       "  1.330004334449768,\n",
       "  1.307618260383606,\n",
       "  1.3135814666748047,\n",
       "  1.216004490852356,\n",
       "  1.138710856437683,\n",
       "  1.4559564590454102,\n",
       "  1.0641789436340332,\n",
       "  1.0624252557754517,\n",
       "  1.0130739212036133,\n",
       "  0.9922362565994263,\n",
       "  0.9562309384346008,\n",
       "  0.9820764660835266,\n",
       "  0.9131867289543152,\n",
       "  0.9169737696647644],\n",
       " 'val_accuracy': [0.07692307978868484,\n",
       "  0.11680911481380463,\n",
       "  0.21937322616577148,\n",
       "  0.30199429392814636,\n",
       "  0.36182335019111633,\n",
       "  0.3817663788795471,\n",
       "  0.5384615659713745,\n",
       "  0.5868945717811584,\n",
       "  0.4928774833679199,\n",
       "  0.6552706360816956,\n",
       "  0.6752136945724487,\n",
       "  0.6068376302719116,\n",
       "  0.7236467003822327,\n",
       "  0.7663817405700684,\n",
       "  0.7834757566452026,\n",
       "  0.7578347325325012,\n",
       "  0.8062677979469299,\n",
       "  0.8176637887954712,\n",
       "  0.8490028381347656,\n",
       "  0.8176637887954712,\n",
       "  0.7834757566452026,\n",
       "  0.8917378783226013,\n",
       "  0.8490028381347656,\n",
       "  0.8774929046630859,\n",
       "  0.8034188151359558,\n",
       "  0.874643862247467,\n",
       "  0.8945869207382202,\n",
       "  0.8888888955116272,\n",
       "  0.874643862247467,\n",
       "  0.8945869207382202],\n",
       " 'val_loss': [3.510362148284912,\n",
       "  3.427563190460205,\n",
       "  2.9955525398254395,\n",
       "  2.767922878265381,\n",
       "  2.6138603687286377,\n",
       "  2.4274771213531494,\n",
       "  2.0120606422424316,\n",
       "  1.8563255071640015,\n",
       "  2.8942770957946777,\n",
       "  1.569532036781311,\n",
       "  1.559639811515808,\n",
       "  1.9259593486785889,\n",
       "  1.4180794954299927,\n",
       "  1.2777316570281982,\n",
       "  1.4654271602630615,\n",
       "  1.4751970767974854,\n",
       "  1.3147292137145996,\n",
       "  1.3091081380844116,\n",
       "  1.099521517753601,\n",
       "  1.0395307540893555,\n",
       "  1.878021478652954,\n",
       "  1.059257984161377,\n",
       "  1.2524856328964233,\n",
       "  1.0763986110687256,\n",
       "  1.7833225727081299,\n",
       "  1.3610825538635254,\n",
       "  1.1683685779571533,\n",
       "  1.2229294776916504,\n",
       "  2.061112403869629,\n",
       "  1.1524354219436646]}"
      ]
     },
     "execution_count": 161,
     "metadata": {},
     "output_type": "execute_result"
    }
   ],
   "source": [
    "training_history.history"
   ]
  },
  {
   "cell_type": "code",
   "execution_count": 162,
   "id": "194bcd38",
   "metadata": {},
   "outputs": [],
   "source": [
    "#Recording History\n",
    "\n",
    "import json\n",
    "with open('training_history.json','w')as f:\n",
    "    json.dump(training_history.history,f)"
   ]
  },
  {
   "cell_type": "code",
   "execution_count": 168,
   "id": "75e7aeab",
   "metadata": {},
   "outputs": [
    {
     "name": "stdout",
     "output_type": "stream",
     "text": [
      "dict_keys(['accuracy', 'loss', 'val_accuracy', 'val_loss'])\n"
     ]
    }
   ],
   "source": [
    "print(training_history.history.keys())"
   ]
  },
  {
   "cell_type": "code",
   "execution_count": null,
   "id": "aaf66e89",
   "metadata": {},
   "outputs": [],
   "source": []
  },
  {
   "cell_type": "markdown",
   "id": "0bb6626d",
   "metadata": {},
   "source": [
    "Calculating Accuracy of Model"
   ]
  },
  {
   "cell_type": "code",
   "execution_count": 169,
   "id": "a509ffb6",
   "metadata": {},
   "outputs": [
    {
     "data": {
      "text/plain": [
       "{'accuracy': [0.04430176690220833,\n",
       "  0.05842696502804756,\n",
       "  0.10208667814731598,\n",
       "  0.15056179463863373,\n",
       "  0.18651685118675232,\n",
       "  0.24398073554039001,\n",
       "  0.2921348214149475,\n",
       "  0.35569822788238525,\n",
       "  0.4025682210922241,\n",
       "  0.44686996936798096,\n",
       "  0.48571428656578064,\n",
       "  0.5418940782546997,\n",
       "  0.5617977380752563,\n",
       "  0.5929374098777771,\n",
       "  0.6272873282432556,\n",
       "  0.643338680267334,\n",
       "  0.6703049540519714,\n",
       "  0.6902086734771729,\n",
       "  0.6937399506568909,\n",
       "  0.7171749472618103,\n",
       "  0.7351524829864502,\n",
       "  0.7508828043937683,\n",
       "  0.7573033571243286,\n",
       "  0.7595505714416504,\n",
       "  0.7826645374298096,\n",
       "  0.7874799370765686,\n",
       "  0.8003210425376892,\n",
       "  0.8028892278671265,\n",
       "  0.8086677193641663,\n",
       "  0.8118780255317688],\n",
       " 'loss': [10.781110763549805,\n",
       "  3.5229997634887695,\n",
       "  3.4510138034820557,\n",
       "  3.2343413829803467,\n",
       "  3.12041974067688,\n",
       "  2.891270160675049,\n",
       "  2.660168170928955,\n",
       "  2.455738067626953,\n",
       "  2.2700705528259277,\n",
       "  2.0761117935180664,\n",
       "  1.9467062950134277,\n",
       "  1.8127714395523071,\n",
       "  1.7560580968856812,\n",
       "  1.6724827289581299,\n",
       "  1.5160480737686157,\n",
       "  1.4152897596359253,\n",
       "  1.330004334449768,\n",
       "  1.307618260383606,\n",
       "  1.3135814666748047,\n",
       "  1.216004490852356,\n",
       "  1.138710856437683,\n",
       "  1.4559564590454102,\n",
       "  1.0641789436340332,\n",
       "  1.0624252557754517,\n",
       "  1.0130739212036133,\n",
       "  0.9922362565994263,\n",
       "  0.9562309384346008,\n",
       "  0.9820764660835266,\n",
       "  0.9131867289543152,\n",
       "  0.9169737696647644],\n",
       " 'val_accuracy': [0.07692307978868484,\n",
       "  0.11680911481380463,\n",
       "  0.21937322616577148,\n",
       "  0.30199429392814636,\n",
       "  0.36182335019111633,\n",
       "  0.3817663788795471,\n",
       "  0.5384615659713745,\n",
       "  0.5868945717811584,\n",
       "  0.4928774833679199,\n",
       "  0.6552706360816956,\n",
       "  0.6752136945724487,\n",
       "  0.6068376302719116,\n",
       "  0.7236467003822327,\n",
       "  0.7663817405700684,\n",
       "  0.7834757566452026,\n",
       "  0.7578347325325012,\n",
       "  0.8062677979469299,\n",
       "  0.8176637887954712,\n",
       "  0.8490028381347656,\n",
       "  0.8176637887954712,\n",
       "  0.7834757566452026,\n",
       "  0.8917378783226013,\n",
       "  0.8490028381347656,\n",
       "  0.8774929046630859,\n",
       "  0.8034188151359558,\n",
       "  0.874643862247467,\n",
       "  0.8945869207382202,\n",
       "  0.8888888955116272,\n",
       "  0.874643862247467,\n",
       "  0.8945869207382202],\n",
       " 'val_loss': [3.510362148284912,\n",
       "  3.427563190460205,\n",
       "  2.9955525398254395,\n",
       "  2.767922878265381,\n",
       "  2.6138603687286377,\n",
       "  2.4274771213531494,\n",
       "  2.0120606422424316,\n",
       "  1.8563255071640015,\n",
       "  2.8942770957946777,\n",
       "  1.569532036781311,\n",
       "  1.559639811515808,\n",
       "  1.9259593486785889,\n",
       "  1.4180794954299927,\n",
       "  1.2777316570281982,\n",
       "  1.4654271602630615,\n",
       "  1.4751970767974854,\n",
       "  1.3147292137145996,\n",
       "  1.3091081380844116,\n",
       "  1.099521517753601,\n",
       "  1.0395307540893555,\n",
       "  1.878021478652954,\n",
       "  1.059257984161377,\n",
       "  1.2524856328964233,\n",
       "  1.0763986110687256,\n",
       "  1.7833225727081299,\n",
       "  1.3610825538635254,\n",
       "  1.1683685779571533,\n",
       "  1.2229294776916504,\n",
       "  2.061112403869629,\n",
       "  1.1524354219436646]}"
      ]
     },
     "execution_count": 169,
     "metadata": {},
     "output_type": "execute_result"
    }
   ],
   "source": [
    "training_history.history"
   ]
  },
  {
   "cell_type": "code",
   "execution_count": 170,
   "id": "020606eb",
   "metadata": {},
   "outputs": [
    {
     "name": "stdout",
     "output_type": "stream",
     "text": [
      "validation set Accuracy:89.45869207382202%\n"
     ]
    }
   ],
   "source": [
    "print(\"validation set Accuracy:{}%\".format(training_history.history['val_accuracy'][-1]*100))"
   ]
  },
  {
   "cell_type": "code",
   "execution_count": null,
   "id": "cf5b4acd",
   "metadata": {},
   "outputs": [],
   "source": []
  },
  {
   "cell_type": "markdown",
   "id": "ec0d0bec",
   "metadata": {},
   "source": [
    "#Accuracy Visualization\n"
   ]
  },
  {
   "cell_type": "code",
   "execution_count": 171,
   "id": "45a059b1",
   "metadata": {},
   "outputs": [
    {
     "data": {
      "image/png": "[encoded data removed]",
      "text/plain": [
       "<Figure size 640x480 with 1 Axes>"
      ]
     },
     "metadata": {},
     "output_type": "display_data"
    }
   ],
   "source": [
    "epochs=[i for i in range (1,31)]\n",
    "plt.plot(epochs,training_history.history['accuracy'],color='red')\n",
    "plt.xlabel('Epochs')\n",
    "plt.ylabel('Training Accuracy')\n",
    "plt.title('Visualization of Training Accuracy Result')\n",
    "plt.show()"
   ]
  },
  {
   "cell_type": "code",
   "execution_count": 172,
   "id": "8ca8bf4f",
   "metadata": {},
   "outputs": [
    {
     "data": {
      "image/png": "[encoded data removed]",
      "text/plain": [
       "<Figure size 640x480 with 1 Axes>"
      ]
     },
     "metadata": {},
     "output_type": "display_data"
    }
   ],
   "source": [
    "plt.plot(epochs,training_history.history['val_accuracy'],color='blue')\n",
    "plt.xlabel('No.of Epochs')\n",
    "plt.ylabel('Validation Accuracy')\n",
    "plt.title(\"Visualization of validation accuracy Result\")\n",
    "plt.show()\n",
    "\n"
   ]
  },
  {
   "cell_type": "code",
   "execution_count": null,
   "id": "76bb46c4",
   "metadata": {},
   "outputs": [],
   "source": []
  }
 ],
 "metadata": {
  "kernelspec": {
   "display_name": "tf_env",
   "language": "python",
   "name": "python3"
  },
  "language_info": {
   "codemirror_mode": {
    "name": "ipython",
    "version": 3
   },
   "file_extension": ".py",
   "mimetype": "text/x-python",
   "name": "python",
   "nbconvert_exporter": "python",
   "pygments_lexer": "ipython3",
   "version": "3.9.21"
  }
 },
 "nbformat": 4,
 "nbformat_minor": 5
}
